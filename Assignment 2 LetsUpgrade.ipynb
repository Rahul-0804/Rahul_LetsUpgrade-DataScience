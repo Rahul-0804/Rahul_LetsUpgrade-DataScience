{
 "cells": [
  {
   "cell_type": "markdown",
   "metadata": {},
   "source": [
    "# Question:01"
   ]
  },
  {
   "cell_type": "code",
   "execution_count": 13,
   "metadata": {
    "scrolled": true
   },
   "outputs": [
    {
     "name": "stdout",
     "output_type": "stream",
     "text": [
      "20\n",
      "21\n",
      "22\n",
      "23\n",
      "24\n",
      "25\n",
      "26\n",
      "27\n",
      "28\n",
      "29\n",
      "[20, 22, 24, 26, 28]\n"
     ]
    }
   ],
   "source": [
    "list1 = []\n",
    "for i in range(10):\n",
    "    x = int(input())\n",
    "    list1.append(x)\n",
    "even_list = []\n",
    "for i in list1:\n",
    "        if(i%2==0):\n",
    "            even_list.append(i)\n",
    "print(even_list)        "
   ]
  },
  {
   "cell_type": "markdown",
   "metadata": {},
   "source": [
    "# Question:02"
   ]
  },
  {
   "cell_type": "raw",
   "metadata": {},
   "source": [
    "LIST COMPREHENSION :\n",
    "\n",
    "List Comprehension is an elegant way to define and create list based on existing lists.\n",
    "The syntax of List comprehention is [expression for member in iterable]\n",
    "For example,"
   ]
  },
  {
   "cell_type": "code",
   "execution_count": 42,
   "metadata": {},
   "outputs": [
    {
     "name": "stdout",
     "output_type": "stream",
     "text": [
      "[1, 4, 9, 16, 25, 36]\n"
     ]
    }
   ],
   "source": [
    "squares = [i**2 for i in (1,2,3,4,5,6)]\n",
    "print(squares)"
   ]
  },
  {
   "cell_type": "raw",
   "metadata": {},
   "source": [
    "In the above,\n",
    "\"i**2\" is the expression. An Expression is the member itself, a call to a method, or any other valid expression that returns a value.\n",
    " \"i\" is the memeber. Member is the object or value in the list or iterable.\n",
    " \"(1,2,3,4,5,6)\" is iterable. Iterable is a list, set, sequence, generator, or any other object that can return its elements one at a time."
   ]
  },
  {
   "cell_type": "raw",
   "metadata": {},
   "source": [
    "The above example can also be written as,"
   ]
  },
  {
   "cell_type": "code",
   "execution_count": 44,
   "metadata": {},
   "outputs": [
    {
     "name": "stdout",
     "output_type": "stream",
     "text": [
      "[1, 4, 9, 16, 25, 36]\n"
     ]
    }
   ],
   "source": [
    "squares = [i*i for i in range(1,7)]\n",
    "print(squares)"
   ]
  },
  {
   "cell_type": "markdown",
   "metadata": {},
   "source": [
    "# Question:03\n"
   ]
  },
  {
   "cell_type": "code",
   "execution_count": 16,
   "metadata": {},
   "outputs": [
    {
     "name": "stdout",
     "output_type": "stream",
     "text": [
      "9\n",
      "{1: 1, 2: 4, 3: 9, 4: 16, 5: 25, 6: 36, 7: 49, 8: 64, 9: 81}\n"
     ]
    }
   ],
   "source": [
    "D = {} #D is an empty Dictionary\n",
    "#Getting input values of \"n\" from user\n",
    "n = int(input())\n",
    "for i in range(1,n+1):\n",
    "    D[i] = i*i\n",
    "print(D)"
   ]
  },
  {
   "cell_type": "markdown",
   "metadata": {},
   "source": [
    "# Question:04"
   ]
  },
  {
   "cell_type": "code",
   "execution_count": 36,
   "metadata": {},
   "outputs": [
    {
     "name": "stdout",
     "output_type": "stream",
     "text": [
      "4\n",
      "UP 5\n",
      "DOWN 3\n",
      "LEFT 3\n",
      "RIGHT 2\n",
      "2\n"
     ]
    }
   ],
   "source": [
    "import math\n",
    "(x,y)=(0,0)\n",
    "n = int(input())\n",
    "for i in range(n):\n",
    "    a,b=input().split()\n",
    "    a,b=str(a),int(b)\n",
    "    if a==\"DOWN\":\n",
    "        x , y = x , y-b\n",
    "    elif a==\"LEFT\":\n",
    "        x , y = x-b , y\n",
    "    elif a==\"RIGHT\":\n",
    "        x , y = x+b , y\n",
    "    else:\n",
    "        x , y = x , y+b\n",
    "print(round(math.sqrt((x**2)+(y**2))))"
   ]
  }
 ],
 "metadata": {
  "kernelspec": {
   "display_name": "Python 3",
   "language": "python",
   "name": "python3"
  },
  "language_info": {
   "codemirror_mode": {
    "name": "ipython",
    "version": 3
   },
   "file_extension": ".py",
   "mimetype": "text/x-python",
   "name": "python",
   "nbconvert_exporter": "python",
   "pygments_lexer": "ipython3",
   "version": "3.7.3"
  }
 },
 "nbformat": 4,
 "nbformat_minor": 2
}
